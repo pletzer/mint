{
 "cells": [
  {
   "cell_type": "markdown",
   "id": "26f69a47",
   "metadata": {},
   "source": [
    "# LFRic W1/W2 Vector field on the cubed-sphere\n",
    "This notebook shows how to regrid a vector field defined from a source to a targert mesh. The components of the vector field are staggered according to either Arakawa C (W2) or D (W1). Schematically,"
   ]
  },
  {
   "cell_type": "code",
   "execution_count": null,
   "id": "ee28b47e",
   "metadata": {},
   "outputs": [],
   "source": [
    "# Arakawa C or LFRic W2 space\n",
    "# o---v----o\n",
    "# |        |\n",
    "# u        u\n",
    "# |        |\n",
    "# o---v----o\n",
    "\n",
    "# Arakawa D or LFRic W1 space\n",
    "# o---u----o\n",
    "# |        |\n",
    "# v        v\n",
    "# |        |\n",
    "# o---u----o"
   ]
  },
  {
   "cell_type": "markdown",
   "id": "91467c81",
   "metadata": {},
   "source": [
    "Mimetic interpolation leverages different (vector) interpolating functions for W1 and W2 fields."
   ]
  },
  {
   "cell_type": "code",
   "execution_count": null,
   "id": "fed1a910",
   "metadata": {},
   "outputs": [],
   "source": [
    "import numpy\n",
    "import mint\n",
    "print(f'mint version = {mint.__version__}')"
   ]
  },
  {
   "cell_type": "markdown",
   "id": "d2f9ce68",
   "metadata": {},
   "source": [
    "## Load the source and target grids from Ugrid files\n",
    "\n",
    "Both the source and target meshes and data must comply to the Ugrid 2d, netcdf conventions (https://ugrid-conventions.github.io/ugrid-conventions/)."
   ]
  },
  {
   "cell_type": "code",
   "execution_count": null,
   "id": "6fc67013",
   "metadata": {},
   "outputs": [],
   "source": [
    "import iris\n",
    "from iris.experimental.ugrid import Connectivity, Mesh, PARSE_UGRID_ON_LOAD"
   ]
  },
  {
   "cell_type": "code",
   "execution_count": null,
   "id": "8742162f",
   "metadata": {},
   "outputs": [],
   "source": [
    "# read the src data\n",
    "src_filename = '../../data/cs8_wind.nc'\n",
    "with PARSE_UGRID_ON_LOAD.context():\n",
    "    src_u_cube = iris.load_cube(src_filename, 'eastward_wind_at_cell_faces')\n",
    "    src_v_cube = iris.load_cube(src_filename, 'northward_wind_at_cell_faces')"
   ]
  },
  {
   "cell_type": "code",
   "execution_count": null,
   "id": "b44750d6",
   "metadata": {},
   "outputs": [],
   "source": [
    "# get the source mesh and its connectivity\n",
    "src_x = src_u_cube.mesh.node_coords.node_x.points\n",
    "src_y = src_u_cube.mesh.node_coords.node_y.points\n",
    "# edge to node connectivity\n",
    "src_e2n = src_u_cube.mesh.edge_node_connectivity.indices_by_location()\n",
    "src_e2n -= src_u_cube.mesh.edge_node_connectivity.start_index\n",
    "# face to node connectivity\n",
    "src_f2n = src_u_cube.mesh.face_node_connectivity.indices_by_location()\n",
    "src_f2n -= src_u_cube.mesh.face_node_connectivity.start_index"
   ]
  },
  {
   "cell_type": "code",
   "execution_count": null,
   "id": "376e0a2e",
   "metadata": {},
   "outputs": [],
   "source": [
    "# read the target data, mesh and connectivity\n",
    "tgt_filename = '../../data/cs2_wind.nc'\n",
    "with PARSE_UGRID_ON_LOAD.context():\n",
    "    tgt_u_cube = iris.load_cube(tgt_filename, 'eastward_wind_at_cell_faces')\n",
    "    tgt_v_cube = iris.load_cube(tgt_filename, 'northward_wind_at_cell_faces')\n",
    "# get the target mesh and its connectivity\n",
    "tgt_x = tgt_u_cube.mesh.node_coords.node_x.points\n",
    "tgt_y = tgt_u_cube.mesh.node_coords.node_y.points\n",
    "# edge to node connectivity\n",
    "tgt_e2n = tgt_u_cube.mesh.edge_node_connectivity.indices_by_location()\n",
    "tgt_e2n -= tgt_u_cube.mesh.edge_node_connectivity.start_index\n",
    "# face to node connectivity\n",
    "tgt_f2n = tgt_u_cube.mesh.face_node_connectivity.indices_by_location()\n",
    "tgt_f2n -= tgt_u_cube.mesh.face_node_connectivity.start_index   "
   ]
  },
  {
   "cell_type": "markdown",
   "id": "be6f6988",
   "metadata": {},
   "source": [
    "## Regrid the vector field"
   ]
  },
  {
   "cell_type": "code",
   "execution_count": null,
   "id": "91aa0169",
   "metadata": {},
   "outputs": [],
   "source": [
    "# grid options for a cubed-sphere grid, use (0, 0, 1) for a rectilinear grid\n",
    "src_flags = (1, 1, 1)\n",
    "tgt_flags = (1, 1, 1)\n",
    "# compute the regridding weights\n",
    "rg = mint.IrisMintRegridder(src_u_cube.mesh, tgt_u_cube.mesh,\n",
    "                            src_flags=src_flags, tgt_flags=tgt_flags)\n",
    "# note: we assume the vector field to be Arakawa C (or W2)\n",
    "result_u, result_v = rg.regrid_vector_cubes(src_u_cube, src_v_cube, fs=mint.FUNC_SPACE_W2)"
   ]
  },
  {
   "cell_type": "code",
   "execution_count": null,
   "id": "90fcf076",
   "metadata": {},
   "outputs": [],
   "source": [
    "# apply the weights\n",
    "regridder.vectorApply(src_u_cube.data, src_v_cube.data, tgt_u_cube.data, )"
   ]
  },
  {
   "cell_type": "code",
   "execution_count": null,
   "id": "e699c218",
   "metadata": {},
   "outputs": [],
   "source": [
    "def get_mid_edge_positions_from_vertices(x, y, e2n):\n",
    "    \"\"\"\n",
    "    Function to return the mid edge positions, taking into account the periodicity \n",
    "    of the domain along longitudes\n",
    "    :param x: array of longitudes (deg east)\n",
    "    :param y: array of latitudes (deg north)\n",
    "    :param e2n: edge to node connectivity, array of size (num_edges, 2)\n",
    "    :returns two 1D arrays for (lon, lat)\n",
    "    \"\"\"\n",
    "    i0, i1 = e2n[:, 0], e2n[:, 1]\n",
    "    x0, x1 = x[i0], x[i1]\n",
    "    y0, y1 = y[i0], y[i1]\n",
    "    # add/subtract a periodicity length\n",
    "    dx = x1 - x0\n",
    "    x1 = numpy.where(dx > 180., x1 - 360., x1)\n",
    "    x1 = numpy.where(dx < -180., x1 + 360., x1)\n",
    "    # edge mid points\n",
    "    xm = 0.5*(x0 + x1)\n",
    "    ym = 0.5*(y0 + y1)\n",
    "    return xm, ym"
   ]
  },
  {
   "cell_type": "code",
   "execution_count": null,
   "id": "b86849e5",
   "metadata": {},
   "outputs": [],
   "source": [
    "from matplotlib.pyplot import quiver\n",
    "src_xm, src_ym = get_mid_edge_positions_from_vertices(src_x, src_y, src_e2n)\n",
    "quiver(src_xm, src_ym, src_u_cube.data, src_v_cube.data, color='g')\n",
    "tgt_xm, tgt_ym = get_mid_edge_positions_from_vertices(tgt_x, tgt_y, tgt_e2n)\n",
    "quiver(tgt_xm, tgt_ym, tgt_u_cube.data, tgt_v_cube.data, color='r')"
   ]
  },
  {
   "cell_type": "code",
   "execution_count": null,
   "id": "9e04396e",
   "metadata": {},
   "outputs": [],
   "source": []
  }
 ],
 "metadata": {
  "kernelspec": {
   "display_name": "Python 3 (ipykernel)",
   "language": "python",
   "name": "python3"
  },
  "language_info": {
   "codemirror_mode": {
    "name": "ipython",
    "version": 3
   },
   "file_extension": ".py",
   "mimetype": "text/x-python",
   "name": "python",
   "nbconvert_exporter": "python",
   "pygments_lexer": "ipython3",
   "version": "3.10.6"
  }
 },
 "nbformat": 4,
 "nbformat_minor": 5
}
