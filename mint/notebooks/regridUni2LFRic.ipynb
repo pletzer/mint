{
 "cells": [
  {
   "cell_type": "code",
   "execution_count": null,
   "id": "59bfbf75",
   "metadata": {},
   "outputs": [],
   "source": [
    "import mint\n",
    "import numpy"
   ]
  },
  {
   "cell_type": "code",
   "execution_count": null,
   "id": "9b4f9fba",
   "metadata": {},
   "outputs": [],
   "source": [
    "regridder = mint.RegridEdges()\n",
    "\n",
    "# grid settings\n",
    "regridder.setSrcGridFlags(fixLonAcrossDateline=0, averageLonAtPole=0)\n",
    "regridder.setDstGridFlags(fixLonAcrossDateline=1, averageLonAtPole=1)\n",
    "\n",
    "# load the grids\n",
    "regridder.loadSrcGrid('../../data/latlon100x50.nc$latlon')\n",
    "regridder.loadDstGrid('../../data/lfric_diag_wind.nc$Mesh2d')\n",
    "\n",
    "# compute the regridding weights\n",
    "regridder.build(numCellsPerBucket=10, periodX=360., debug=1)\n",
    "\n",
    "mint.printLogMessages()\n",
    "mint.writeLogMessages('log.txt')"
   ]
  },
  {
   "cell_type": "code",
   "execution_count": null,
   "id": "6e961ab6",
   "metadata": {},
   "outputs": [],
   "source": [
    "!  cat log.txt"
   ]
  },
  {
   "cell_type": "code",
   "execution_count": null,
   "id": "c0fe4095",
   "metadata": {},
   "outputs": [],
   "source": [
    " "
   ]
  }
 ],
 "metadata": {
  "kernelspec": {
   "display_name": "Python 3 (ipykernel)",
   "language": "python",
   "name": "python3"
  },
  "language_info": {
   "codemirror_mode": {
    "name": "ipython",
    "version": 3
   },
   "file_extension": ".py",
   "mimetype": "text/x-python",
   "name": "python",
   "nbconvert_exporter": "python",
   "pygments_lexer": "ipython3",
   "version": "3.9.7"
  }
 },
 "nbformat": 4,
 "nbformat_minor": 5
}
