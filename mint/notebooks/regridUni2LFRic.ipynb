{
 "cells": [
  {
   "cell_type": "markdown",
   "id": "8a103633",
   "metadata": {},
   "source": [
    "# Mimetic regridding from lon-lat to cubed-sphere\n",
    "This notebook shows how to regrid/remap edge or face centred data on a lon-lat grid to cubed-sphere in a flux conservative way."
   ]
  },
  {
   "cell_type": "code",
   "execution_count": 1,
   "id": "aed8b1f0",
   "metadata": {},
   "outputs": [
    {
     "name": "stdout",
     "output_type": "stream",
     "text": [
      "mint version = 1.19.1\n"
     ]
    }
   ],
   "source": [
    "import numpy\n",
    "import mint\n",
    "print(f'mint version = {mint.__version__}')"
   ]
  },
  {
   "cell_type": "markdown",
   "id": "9d8ea35c",
   "metadata": {},
   "source": [
    "## Create a regridding instance"
   ]
  },
  {
   "cell_type": "code",
   "execution_count": 2,
   "id": "add7343c",
   "metadata": {},
   "outputs": [],
   "source": [
    "regridder = mint.RegridEdges()"
   ]
  },
  {
   "cell_type": "markdown",
   "id": "f0a32721",
   "metadata": {},
   "source": [
    "## Set the flags for the source and destination grids\n",
    "For the lon-lat grid we recommend $fixLonAcrossDateline=0$ and $averageLonAtPole=0$. For the cibed-sphere grid we recommend $fixLonAcrossDateline=1$ and $averageLonAtPole=1$. The first option will add and subtract 360 degrees, \n",
    "to reduce the length of cell edges when this cross the dateline. The second option will adjust the longitudes at the poles to make the grid compact."
   ]
  },
  {
   "cell_type": "code",
   "execution_count": 3,
   "id": "aa31f866",
   "metadata": {},
   "outputs": [],
   "source": [
    "regridder.setSrcGridFlags(fixLonAcrossDateline=0, averageLonAtPole=0)  # for lon-lat\n",
    "regridder.setDstGridFlags(fixLonAcrossDateline=1, averageLonAtPole=1)  # for cubed-sphere"
   ]
  },
  {
   "cell_type": "markdown",
   "id": "bceb9177",
   "metadata": {},
   "source": [
    "## Load the source and destination grids\n",
    "The grid are assumed to be stored in the Ugrid 2D netCDF format. Note that we need to specify the name of the grid in the file as well, as several grids ccan live inside the file. This is achieved by passing the name of the file folowwed by '$' and the name of the grid (or mesh)."
   ]
  },
  {
   "cell_type": "code",
   "execution_count": 4,
   "id": "5aacb9a7",
   "metadata": {},
   "outputs": [],
   "source": [
    "regridder.loadSrcGrid('../../data/latlon100x50.nc$latlon')  # mesh name is latlon\n",
    "regridder.loadDstGrid('../../data/lfric_diag_wind.nc$Mesh2d')  # mesh name is Mesh2d"
   ]
  },
  {
   "cell_type": "markdown",
   "id": "4f34e4ce",
   "metadata": {},
   "source": [
    "## Compute the regridding weights\n",
    "Next we compute the weights by building the regridder. Option $debug=1$ will print all the destination edges that partially fall outside the source domain. Option $periodX$ is useful for global domains. Option $numCellsPerBucket$ sets the number of cell in each cell locator bucket. The latter affects performance only, except in the edge cases. We recommend anywhere 10-500 cells per bucket."
   ]
  },
  {
   "cell_type": "code",
   "execution_count": 5,
   "id": "3e5167a3",
   "metadata": {},
   "outputs": [],
   "source": [
    "regridder.build(numCellsPerBucket=128, periodX=360., debug=1)"
   ]
  },
  {
   "cell_type": "markdown",
   "id": "503b1212",
   "metadata": {},
   "source": [
    "## View the log messages\n",
    "It's good practice to view the log messages to chak that all destination edges were found inside the source grid."
   ]
  },
  {
   "cell_type": "code",
   "execution_count": 6,
   "id": "f3e2b8ea",
   "metadata": {},
   "outputs": [
    {
     "name": "stdout",
     "output_type": "stream",
     "text": [
      "[Thu Nov 11 16:25:19 2021 info    ]  src/mntRegridEdges.cpp in function mnt_regridedges_loadSrcGrid (line 468): loading src grid from file \"../../data/latlon100x50.nc$latlon\"\r\n",
      "[Thu Nov 11 16:25:19 2021 info    ]  src/mntRegridEdges.cpp in function mnt_regridedges_loadDstGrid (line 481): loading dst grid from file \"../../data/lfric_diag_wind.nc$Mesh2d\"\r\n"
     ]
    }
   ],
   "source": [
    "mint.writeLogMessages('log.txt')\n",
    "!  cat log.txt"
   ]
  },
  {
   "cell_type": "markdown",
   "id": "cd350ebc",
   "metadata": {},
   "source": [
    "## Saving the weights to file"
   ]
  },
  {
   "cell_type": "code",
   "execution_count": 7,
   "id": "4c9bb26d",
   "metadata": {},
   "outputs": [],
   "source": [
    "regridder.dumpWeights('lonlat_cs_weights.nc')"
   ]
  }
 ],
 "metadata": {
  "kernelspec": {
   "display_name": "Python 3 (ipykernel)",
   "language": "python",
   "name": "python3"
  },
  "language_info": {
   "codemirror_mode": {
    "name": "ipython",
    "version": 3
   },
   "file_extension": ".py",
   "mimetype": "text/x-python",
   "name": "python",
   "nbconvert_exporter": "python",
   "pygments_lexer": "ipython3",
   "version": "3.9.7"
  }
 },
 "nbformat": 4,
 "nbformat_minor": 5
}
