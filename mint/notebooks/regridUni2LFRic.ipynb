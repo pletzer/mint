{
 "cells": [
  {
   "cell_type": "code",
   "execution_count": 1,
   "id": "18be91f7",
   "metadata": {},
   "outputs": [],
   "source": [
    "import mint\n",
    "import numpy"
   ]
  },
  {
   "cell_type": "code",
   "execution_count": 12,
   "id": "5a5ebae2",
   "metadata": {},
   "outputs": [],
   "source": [
    "regridder = mint.RegridEdges()\n",
    "\n",
    "# grid settings\n",
    "regridder.setSrcGridFlags(fixLonAcrossDateline=0, averageLonAtPole=0)\n",
    "regridder.setDstGridFlags(fixLonAcrossDateline=1, averageLonAtPole=1)\n",
    "\n",
    "# load the grids\n",
    "regridder.loadSrcGrid('../../data/latlon100x50.nc$latlon')\n",
    "regridder.loadDstGrid('../../data/lfric_diag_wind.nc$Mesh2d')\n",
    "\n",
    "# compute the regridding weights\n",
    "regridder.build(numCellsPerBucket=1, periodX=360., debug=1)\n",
    "\n",
    "mint.writeLogMessages('log.txt')"
   ]
  },
  {
   "cell_type": "code",
   "execution_count": 7,
   "id": "056a1fba",
   "metadata": {},
   "outputs": [
    {
     "name": "stderr",
     "output_type": "stream",
     "text": [
      "ERROR:root:ier=1 after calling loadFromUgrid2D in grid.py!\n"
     ]
    },
    {
     "ename": "RuntimeError",
     "evalue": "ier=1 after calling loadFromUgrid2D in grid.py!",
     "output_type": "error",
     "traceback": [
      "\u001b[0;31m---------------------------------------------------------------------------\u001b[0m",
      "\u001b[0;31mRuntimeError\u001b[0m                              Traceback (most recent call last)",
      "\u001b[0;32m<ipython-input-7-b67b8bb4214f>\u001b[0m in \u001b[0;36m<module>\u001b[0;34m\u001b[0m\n\u001b[1;32m      2\u001b[0m \u001b[0;31m# settings for the cubed-sphere grid\u001b[0m\u001b[0;34m\u001b[0m\u001b[0;34m\u001b[0m\u001b[0m\n\u001b[1;32m      3\u001b[0m \u001b[0mdst_grid\u001b[0m\u001b[0;34m.\u001b[0m\u001b[0msetFlags\u001b[0m\u001b[0;34m(\u001b[0m\u001b[0mfixLonAcrossDateline\u001b[0m\u001b[0;34m=\u001b[0m\u001b[0;36m1\u001b[0m\u001b[0;34m,\u001b[0m \u001b[0maverageLonAtPole\u001b[0m\u001b[0;34m=\u001b[0m\u001b[0;36m1\u001b[0m\u001b[0;34m)\u001b[0m\u001b[0;34m\u001b[0m\u001b[0;34m\u001b[0m\u001b[0m\n\u001b[0;32m----> 4\u001b[0;31m \u001b[0mdst_grid\u001b[0m\u001b[0;34m.\u001b[0m\u001b[0mloadFromUgrid2D\u001b[0m\u001b[0;34m(\u001b[0m\u001b[0;34m'../../data/lfric_diag_wind$Mesh2d'\u001b[0m\u001b[0;34m)\u001b[0m\u001b[0;34m\u001b[0m\u001b[0;34m\u001b[0m\u001b[0m\n\u001b[0m",
      "\u001b[0;32m~/mint-dev/mint/grid.py\u001b[0m in \u001b[0;36mloadFromUgrid2D\u001b[0;34m(self, fileAndMeshName)\u001b[0m\n\u001b[1;32m     69\u001b[0m         \u001b[0mier\u001b[0m \u001b[0;34m=\u001b[0m \u001b[0mMINTLIB\u001b[0m\u001b[0;34m.\u001b[0m\u001b[0mmnt_grid_loadFromUgrid2D\u001b[0m\u001b[0;34m(\u001b[0m\u001b[0mself\u001b[0m\u001b[0;34m.\u001b[0m\u001b[0mobj\u001b[0m\u001b[0;34m,\u001b[0m \u001b[0mfm\u001b[0m\u001b[0;34m)\u001b[0m\u001b[0;34m\u001b[0m\u001b[0;34m\u001b[0m\u001b[0m\n\u001b[1;32m     70\u001b[0m         \u001b[0;32mif\u001b[0m \u001b[0mier\u001b[0m\u001b[0;34m:\u001b[0m\u001b[0;34m\u001b[0m\u001b[0;34m\u001b[0m\u001b[0m\n\u001b[0;32m---> 71\u001b[0;31m             \u001b[0merror_handler\u001b[0m\u001b[0;34m(\u001b[0m\u001b[0mFILE\u001b[0m\u001b[0;34m,\u001b[0m \u001b[0;34m'loadFromUgrid2D'\u001b[0m\u001b[0;34m,\u001b[0m \u001b[0mier\u001b[0m\u001b[0;34m)\u001b[0m\u001b[0;34m\u001b[0m\u001b[0;34m\u001b[0m\u001b[0m\n\u001b[0m\u001b[1;32m     72\u001b[0m \u001b[0;34m\u001b[0m\u001b[0m\n\u001b[1;32m     73\u001b[0m     \u001b[0;32mdef\u001b[0m \u001b[0mload\u001b[0m\u001b[0;34m(\u001b[0m\u001b[0mself\u001b[0m\u001b[0;34m,\u001b[0m \u001b[0mfilename\u001b[0m\u001b[0;34m)\u001b[0m\u001b[0;34m:\u001b[0m\u001b[0;34m\u001b[0m\u001b[0;34m\u001b[0m\u001b[0m\n",
      "\u001b[0;32m~/mint-dev/mint/message_handler.py\u001b[0m in \u001b[0;36merror_handler\u001b[0;34m(filename, methodname, ier)\u001b[0m\n\u001b[1;32m     12\u001b[0m     \u001b[0mmsg\u001b[0m \u001b[0;34m=\u001b[0m \u001b[0;34mf'ier={ier} after calling {methodname} in {filename}!'\u001b[0m\u001b[0;34m\u001b[0m\u001b[0;34m\u001b[0m\u001b[0m\n\u001b[1;32m     13\u001b[0m     \u001b[0mlogging\u001b[0m\u001b[0;34m.\u001b[0m\u001b[0merror\u001b[0m\u001b[0;34m(\u001b[0m\u001b[0mmsg\u001b[0m\u001b[0;34m)\u001b[0m\u001b[0;34m\u001b[0m\u001b[0;34m\u001b[0m\u001b[0m\n\u001b[0;32m---> 14\u001b[0;31m     \u001b[0;32mraise\u001b[0m \u001b[0mRuntimeError\u001b[0m\u001b[0;34m(\u001b[0m\u001b[0mmsg\u001b[0m\u001b[0;34m)\u001b[0m\u001b[0;34m\u001b[0m\u001b[0;34m\u001b[0m\u001b[0m\n\u001b[0m\u001b[1;32m     15\u001b[0m \u001b[0;34m\u001b[0m\u001b[0m\n\u001b[1;32m     16\u001b[0m \u001b[0;32mdef\u001b[0m \u001b[0mwarning_handler\u001b[0m\u001b[0;34m(\u001b[0m\u001b[0mfilename\u001b[0m\u001b[0;34m,\u001b[0m \u001b[0mmethodname\u001b[0m\u001b[0;34m,\u001b[0m \u001b[0mier\u001b[0m\u001b[0;34m,\u001b[0m \u001b[0mdetailedmsg\u001b[0m\u001b[0;34m=\u001b[0m\u001b[0;34m''\u001b[0m\u001b[0;34m)\u001b[0m\u001b[0;34m:\u001b[0m\u001b[0;34m\u001b[0m\u001b[0;34m\u001b[0m\u001b[0m\n",
      "\u001b[0;31mRuntimeError\u001b[0m: ier=1 after calling loadFromUgrid2D in grid.py!"
     ]
    }
   ],
   "source": [
    "dst_grid = mint.Grid()\n",
    "# settings for the cubed-sphere grid\n",
    "dst_grid.setFlags(fixLonAcrossDateline=1, averageLonAtPole=1)\n",
    "dst_grid.loadFromUgrid2D('../../data/lfric_diag_wind$Mesh2d')"
   ]
  },
  {
   "cell_type": "code",
   "execution_count": null,
   "id": "4592f1dc",
   "metadata": {},
   "outputs": [],
   "source": []
  }
 ],
 "metadata": {
  "kernelspec": {
   "display_name": "Python 3 (ipykernel)",
   "language": "python",
   "name": "python3"
  },
  "language_info": {
   "codemirror_mode": {
    "name": "ipython",
    "version": 3
   },
   "file_extension": ".py",
   "mimetype": "text/x-python",
   "name": "python",
   "nbconvert_exporter": "python",
   "pygments_lexer": "ipython3",
   "version": "3.9.7"
  }
 },
 "nbformat": 4,
 "nbformat_minor": 5
}
