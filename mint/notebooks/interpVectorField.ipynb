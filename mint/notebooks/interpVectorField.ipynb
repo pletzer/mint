{
 "cells": [
  {
   "cell_type": "markdown",
   "id": "26f69a47",
   "metadata": {},
   "source": [
    "# LFRic W1/W2 Vector field on the cubed-sphere\n",
    "This notebook shows how to interpolate a vector field defined on a cubed-sphere onto a regular lon-lat grid. The components of the vector field are staggered according to either Arakawa C (W2) or D (W1). For an orthogonal cell:"
   ]
  },
  {
   "cell_type": "code",
   "execution_count": null,
   "id": "05d0dd15",
   "metadata": {},
   "outputs": [],
   "source": [
    "# Arakawa C or LFRic W2 space\n",
    "# o---v----o\n",
    "# |        |\n",
    "# u        u\n",
    "# |        |\n",
    "# o---v----o\n",
    "\n",
    "# Arakawa D or LFRic W1 space\n",
    "# o---u----o\n",
    "# |        |\n",
    "# v        v\n",
    "# |        |\n",
    "# o---u----o"
   ]
  },
  {
   "cell_type": "markdown",
   "id": "39d69a9a",
   "metadata": {},
   "source": [
    "A critical aspect of mimetic interpolation is that the interpolating functions are vectors. However, they are different for W1 and W2 fields."
   ]
  },
  {
   "cell_type": "code",
   "execution_count": null,
   "id": "dcdd6c58",
   "metadata": {},
   "outputs": [],
   "source": [
    "import mint\n",
    "import numpy"
   ]
  },
  {
   "cell_type": "markdown",
   "id": "d2f9ce68",
   "metadata": {},
   "source": [
    "## Load the grid from the Ugrid file"
   ]
  },
  {
   "cell_type": "code",
   "execution_count": null,
   "id": "b44750d6",
   "metadata": {},
   "outputs": [],
   "source": [
    "# the Ugrid file containing the grid and the wind velocities\n",
    "src_filename = '../../data/lfric_diag_wind.nc'\n",
    "src_meshname = 'Mesh2d'\n",
    "\n",
    "# instantiate the grid object\n",
    "src_grid = mint.Grid()\n",
    "\n",
    "# these flags are required for rectilinear grids\n",
    "src_grid.setFlags(fixLonAcrossDateline=1, averageLonAtPole=1)\n",
    "\n",
    "# load the grid form the Ugrid file. Note we need to specify \n",
    "# the mesh name as well since the Ugrid file may contain several\n",
    "# grids\n",
    "src_grid.loadFromUgrid2D(src_filename + '$' + src_meshname)\n",
    "\n",
    "# it's good practice to check that the grid object is valid,\n",
    "# we don't want butterfly cells\n",
    "num_bad_cells = src_grid.check()\n",
    "print(f'num bad cells = {num_bad_cells}')"
   ]
  },
  {
   "cell_type": "markdown",
   "id": "be6f6988",
   "metadata": {},
   "source": [
    "## Read the wind components\n",
    "LFRic stores the wind components (u1, u2) on edges of the 2d horizontal grid. "
   ]
  },
  {
   "cell_type": "code",
   "execution_count": null,
   "id": "6e069a7e",
   "metadata": {},
   "outputs": [],
   "source": [
    "import netCDF4\n",
    "# get the velocities\n",
    "nc = netCDF4.Dataset(src_filename)\n",
    "\n",
    "# eastward wind\n",
    "u1 = nc.variables['u1'][:]\n",
    "# northward wind\n",
    "u2 = nc.variables['u2'][:]\n",
    "\n",
    "# longitudes and latitudes at cell vertices\n",
    "lon = nc.variables['Mesh2d_node_x']\n",
    "lat = nc.variables['Mesh2d_node_y']\n",
    "\n",
    "# edge to node connectivity\n",
    "edge_node_connect = nc.variables['Mesh2d_edge_nodes']"
   ]
  },
  {
   "cell_type": "markdown",
   "id": "71e71d8d",
   "metadata": {},
   "source": [
    "## Compute the edge/face integrals of the vector field\n",
    "This can be done either in lon-lat or in Cartesian coordinates. "
   ]
  },
  {
   "cell_type": "code",
   "execution_count": null,
   "id": "96ba4f48",
   "metadata": {},
   "outputs": [],
   "source": [
    "# choose the time and elevation slice\n",
    "itime = 0\n",
    "iz = 0\n",
    "ue_integrated_lonlat = mint.getIntegralsInLonLat(lon, lat, edge_node_connect,\n",
    "                                                 u1[itime, iz,:], u2[itime, iz,:], w1=True)\n",
    "ue_integrated_xyz = mint.getIntegralsInXYZ(lon, lat, edge_node_connect,\n",
    "                                           u1[itime, iz,:], u2[itime, iz,:], w1=True)\n",
    "uf_integrated_lonlat = mint.getIntegralsInLonLat(lon, lat, edge_node_connect, \n",
    "                                                 u1[itime, iz,:], u2[itime, iz,:], w1=False)\n",
    "uf_integrated_xyz = mint.getIntegralsInXYZ(lon, lat, edge_node_connect, u1[itime, iz,:], \n",
    "                                           u2[itime, iz,:], w1=False)"
   ]
  },
  {
   "cell_type": "markdown",
   "id": "d59a1fd4",
   "metadata": {},
   "source": [
    "## Create the set of target points"
   ]
  },
  {
   "cell_type": "code",
   "execution_count": null,
   "id": "5fc3fc2f",
   "metadata": {},
   "outputs": [],
   "source": [
    "llon, llat = numpy.meshgrid(numpy.linspace(-180., 180., 40), numpy.linspace(-80., 80., 20))\n",
    "ntarget = llon.shape[0] * llon.shape[1]\n",
    "target_points = numpy.zeros((ntarget, 3), numpy.float64)\n",
    "target_points[:, 0] = llon.flat\n",
    "target_points[:, 1] = llat.flat"
   ]
  },
  {
   "cell_type": "markdown",
   "id": "c222bd9b",
   "metadata": {},
   "source": [
    "## Interpolate the W1 and W2 fields onto the target points"
   ]
  },
  {
   "cell_type": "code",
   "execution_count": null,
   "id": "91998839",
   "metadata": {},
   "outputs": [],
   "source": [
    "# create a vector interpolator\n",
    "vi = mint.VectorInterp()\n",
    "vi.setGrid(src_grid)\n",
    "vi.buildLocator(numCellsPerBucket=10)\n",
    "vi.findPoints(target_points, tol2=1.e-10)\n",
    "# placement = 1 means data use a unique edge placement\n",
    "edgeVectors_lonlat = vi.getEdgeVectors(ue_integrated_lonlat, placement=1)\n",
    "edgeVectors_xyz = vi.getEdgeVectors(ue_integrated_xyz, placement=1)\n",
    "faceVectors_lonlat = vi.getFaceVectors(uf_integrated_lonlat, placement=1)\n",
    "faceVectors_xyz = vi.getFaceVectors(uf_integrated_xyz, placement=1)"
   ]
  },
  {
   "cell_type": "markdown",
   "id": "abc170b1",
   "metadata": {},
   "source": [
    "Below are the interpolated vector fields for W1 (top) and (W2). On the left (right), a lat-lon (Cartesian) coordinate system was used to compute the field integral along horizontal edges. Most of the differences are near the poles.\n",
    "\n",
    "The differences between W1 and W2 interpolation are most visible in the high latitudes where the panels of the cubed sphere join. "
   ]
  },
  {
   "cell_type": "code",
   "execution_count": null,
   "id": "e9e6aecc",
   "metadata": {},
   "outputs": [],
   "source": [
    "import matplotlib\n",
    "matplotlib.rcParams['figure.figsize'] = (20, 10)\n",
    "from matplotlib import pylab\n",
    "scale = 500000\n",
    "\n",
    "fig, ((ax1, ax2), (ax3, ax4)) = pylab.subplots(2, 2)\n",
    "\n",
    "ax1.quiver(target_points[:, 0], target_points[:, 1], edgeVectors_lonlat[:, 0], edgeVectors_lonlat[:, 1], \n",
    "           color='b', scale=scale)\n",
    "ax1.set_title('W1 vectors from lon-lat projection')\n",
    "\n",
    "ax2.quiver(target_points[:, 0], target_points[:, 1], edgeVectors_xyz[:, 0], edgeVectors_xyz[:, 1], \n",
    "           color='b', scale=scale)\n",
    "ax2.set_title('W1 vectors from Cartesian projection')\n",
    "\n",
    "ax3.quiver(target_points[:, 0], target_points[:, 1], faceVectors_lonlat[:, 0], faceVectors_lonlat[:, 1], \n",
    "           color='c', scale=scale)\n",
    "ax3.set_title('W2 vectors from lon-lat projection')\n",
    "\n",
    "ax4.quiver(target_points[:, 0], target_points[:, 1], faceVectors_xyz[:, 0], faceVectors_xyz[:, 1], \n",
    "           color='c', scale=scale)\n",
    "ax4.set_title('W2 vectors from Cartesian projection')\n",
    "\n",
    "pylab.show()"
   ]
  }
 ],
 "metadata": {
  "kernelspec": {
   "display_name": "Python 3 (ipykernel)",
   "language": "python",
   "name": "python3"
  },
  "language_info": {
   "codemirror_mode": {
    "name": "ipython",
    "version": 3
   },
   "file_extension": ".py",
   "mimetype": "text/x-python",
   "name": "python",
   "nbconvert_exporter": "python",
   "pygments_lexer": "ipython3",
   "version": "3.9.7"
  }
 },
 "nbformat": 4,
 "nbformat_minor": 5
}
