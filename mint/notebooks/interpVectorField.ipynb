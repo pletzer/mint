{
 "cells": [
  {
   "cell_type": "markdown",
   "id": "26f69a47",
   "metadata": {},
   "source": [
    "# Interpolation of a vector field on the cubed-sphere\n",
    "This notebook shows how to interpolate a vector field defined on a cubed-sphere onto a regular lon-lat grid. "
   ]
  },
  {
   "cell_type": "code",
   "execution_count": null,
   "id": "dcdd6c58",
   "metadata": {},
   "outputs": [],
   "source": [
    "import mint\n",
    "import numpy"
   ]
  },
  {
   "cell_type": "markdown",
   "id": "d2f9ce68",
   "metadata": {},
   "source": [
    "## Load the grid from the Ugrid file"
   ]
  },
  {
   "cell_type": "code",
   "execution_count": null,
   "id": "b44750d6",
   "metadata": {},
   "outputs": [],
   "source": [
    "# the Ugrid file containing the grid and the wind velocities\n",
    "src_filename = '../../data/lfric_diag_wind.nc'\n",
    "src_meshname = 'Mesh2d'\n",
    "\n",
    "# instantiate the grid object\n",
    "src_grid = mint.Grid()\n",
    "\n",
    "# these flags are required for rectilinear grids\n",
    "src_grid.setFlags(fixLonAcrossDateline=1, averageLonAtPole=1)\n",
    "\n",
    "# load the grid form the Ugrid file. Note we need to specify \n",
    "# the mesh name as well since the Ugrid file may contain several\n",
    "# grids\n",
    "src_grid.loadFromUgrid2D(src_filename + '$' + src_meshname)\n",
    "\n",
    "# it's good practice to check that the grid object is valid,\n",
    "# we don't want butterfly cells\n",
    "num_bad_cells = src_grid.check()\n",
    "print(f'num bad cells = {num_bad_cells}')"
   ]
  },
  {
   "cell_type": "markdown",
   "id": "be6f6988",
   "metadata": {},
   "source": [
    "## Read the wind components\n",
    "LFRic stores the wind compomponents on edges of the 2d horizontal grid. "
   ]
  },
  {
   "cell_type": "code",
   "execution_count": null,
   "id": "6e069a7e",
   "metadata": {},
   "outputs": [],
   "source": [
    "import netCDF4\n",
    "# get the velocities\n",
    "nc = netCDF4.Dataset(src_filename)\n",
    "\n",
    "# eastward wind\n",
    "u1 = nc.variables['u1'][:]\n",
    "# northward wind\n",
    "u2 = nc.variables['u2'][:]\n",
    "\n",
    "# longitudes and latitudes at cell vertices\n",
    "lon = nc.variables['Mesh2d_node_x']\n",
    "lat = nc.variables['Mesh2d_node_y']\n",
    "\n",
    "# edge to node connectivity\n",
    "edge_node_connect = nc.variables['Mesh2d_edge_nodes']"
   ]
  },
  {
   "cell_type": "markdown",
   "id": "71e71d8d",
   "metadata": {},
   "source": [
    "## Compute the W1 edge integrals of the vector field\n",
    "This can be done either in lon-lat or in Cartesian coordinates"
   ]
  },
  {
   "cell_type": "code",
   "execution_count": null,
   "id": "44b0a7d7",
   "metadata": {},
   "outputs": [],
   "source": [
    "earth_radius = 6371e3\n",
    "\n",
    "def getEdgeIntegralsInLonLat(lon, lat, edge_node_connect, u1, u2):\n",
    "    nedge = edge_node_connect.shape[0]\n",
    "    # start node indices for each edge\n",
    "    ibeg = edge_node_connect[:, 0]\n",
    "    # end node indices for each edge\n",
    "    iend = edge_node_connect[:, 1]\n",
    "    # edge lengths of the edges in lon-lat\n",
    "    ds = numpy.zeros((nedge, 2), numpy.float64)\n",
    "    dlon = lon[iend] - lon[ibeg]\n",
    "    # add/subtract a periodicity length to account for the multivaluedness\n",
    "    # of the lon coordinate\n",
    "    adlon = numpy.fabs(dlon)\n",
    "    adlonMns = numpy.fabs(dlon - 360.)\n",
    "    adlonPls = numpy.fabs(dlon + 360.)\n",
    "    iMns = numpy.where(adlonMns < adlon)\n",
    "    iPls = numpy.where(adlonPls < adlon)\n",
    "    ds[:, 0] = dlon\n",
    "    ds[iMns, 0] = dlon[iMns] - 360.\n",
    "    ds[iPls, 0] = dlon[iPls] + 360.\n",
    "    ds[:, 1] = lat[iend] - lat[ibeg]\n",
    "    # convert ds to metres\n",
    "    ds *= earth_radius * numpy.pi / 180.\n",
    "    return u1[:]*ds[:, 0] + u2[:]*ds[:, 1]\n",
    "\n",
    "def getEdgeIntegralsInXYZ(lon, lat, edge_node_connect, u1, u2):\n",
    "    nedge = edge_node_connect.shape[0]\n",
    "    # start node indices for each edge\n",
    "    ibeg = edge_node_connect[:, 0]\n",
    "    # end node indices for each edge\n",
    "    iend = edge_node_connect[:, 1]\n",
    "    \n",
    "    lonbeg = lon[ibeg]\n",
    "    lonend = lon[iend]\n",
    "    lonmid = (lonbeg + lonend)*0.5\n",
    "\n",
    "    latbeg = lat[ibeg]\n",
    "    latend = lat[iend]\n",
    "    latmid = (latbeg + latend)*0.5\n",
    "\n",
    "    deg2rad = numpy.pi/180.\n",
    "\n",
    "    rho = earth_radius * numpy.cos(latbeg*deg2rad)\n",
    "    xyzbeg = numpy.zeros((nedge, 3), numpy.float64)\n",
    "    xyzbeg[:, 0] = rho * numpy.cos(lonbeg*deg2rad)\n",
    "    xyzbeg[:, 1] = rho * numpy.sin(lonbeg*deg2rad)\n",
    "    xyzbeg[:, 2] = earth_radius * numpy.sin(latbeg*deg2rad)\n",
    "    \n",
    "    rho = earth_radius * numpy.cos(latend*deg2rad)\n",
    "    xyzend = numpy.zeros((nedge, 3), numpy.float64)\n",
    "    xyzend[:, 0] = rho * numpy.cos(lonend*deg2rad)\n",
    "    xyzend[:, 1] = rho * numpy.sin(lonend*deg2rad)\n",
    "    xyzend[:, 2] = earth_radius * numpy.sin(latend*deg2rad)\n",
    "\n",
    "    ds = xyzend - xyzbeg\n",
    "\n",
    "    # unit vectors at the mid edge point\n",
    "    lambda_hat = numpy.zeros((nedge, 3), numpy.float64)\n",
    "    lambda_hat[:, 0] = - numpy.sin(lonmid*deg2rad)\n",
    "    lambda_hat[:, 1] = numpy.cos(lonmid*deg2rad)\n",
    "\n",
    "    theta_hat = numpy.zeros((nedge, 3), numpy.float64)\n",
    "    theta_hat[:, 0] = - numpy.sin(latmid*deg2rad) * numpy.cos(lonmid*deg2rad)\n",
    "    theta_hat[:, 1] = - numpy.sin(latmid*deg2rad) * numpy.sin(lonmid*deg2rad)\n",
    "    theta_hat[:, 2] = numpy.cos(latmid*deg2rad)\n",
    "    \n",
    "    return u1*numpy.sum(lambda_hat*ds, axis=1) + u2*numpy.sum(theta_hat*ds, axis=1)"
   ]
  },
  {
   "cell_type": "code",
   "execution_count": null,
   "id": "96ba4f48",
   "metadata": {},
   "outputs": [],
   "source": [
    "ue_integrated_lonlat = getEdgeIntegralsInLonLat(lon, lat, edge_node_connect, u1[0,0,:], u2[0,0,:])\n",
    "ue_integrated_xyz = getEdgeIntegralsInXYZ(lon, lat, edge_node_connect, u1[0,0,:], u2[0,0,:])"
   ]
  },
  {
   "cell_type": "code",
   "execution_count": null,
   "id": "5fc3fc2f",
   "metadata": {},
   "outputs": [],
   "source": [
    "# create target grid\n",
    "llon, llat = numpy.meshgrid(numpy.linspace(-180., 180., 40), numpy.linspace(-80., 80., 20))\n",
    "ntarget = llon.shape[0] * llon.shape[1]\n",
    "target_points = numpy.zeros((ntarget, 3), numpy.float64)\n",
    "target_points[:, 0] = llon.flat\n",
    "target_points[:, 1] = llat.flat"
   ]
  },
  {
   "cell_type": "code",
   "execution_count": null,
   "id": "91998839",
   "metadata": {},
   "outputs": [],
   "source": [
    "# create a vector interpolator\n",
    "vi = mint.VectorInterp()\n",
    "vi.setGrid(src_grid)\n",
    "vi.buildLocator(numCellsPerBucket=10)\n",
    "vi.findPoints(target_points, tol2=1.e-10)\n",
    "# placement = 1 means data use a unique edge placement\n",
    "edgeVectors_lonlat = vi.getEdgeVectors(ue_integrated_lonlat, placement=1)\n",
    "edgeVectors_xyz = vi.getEdgeVectors(ue_integrated_xyz, placement=1)"
   ]
  },
  {
   "cell_type": "code",
   "execution_count": null,
   "id": "e9e6aecc",
   "metadata": {},
   "outputs": [],
   "source": [
    "from matplotlib import pylab\n",
    "pylab.quiver(target_points[:, 0], target_points[:, 1], edgeVectors_lonlat[:, 0], edgeVectors_lonlat[:, 1], color='b', scale=500000)\n",
    "pylab.title('W1 vectors from lon-lat projection')\n",
    "pylab.show()\n",
    "\n",
    "pylab.quiver(target_points[:, 0], target_points[:, 1], edgeVectors_xyz[:, 0], edgeVectors_xyz[:, 1], color='r', scale=500000)\n",
    "pylab.title('W1 vectors from Cartesian projection')\n",
    "pylab.show()"
   ]
  },
  {
   "cell_type": "code",
   "execution_count": null,
   "id": "cd4e25b7",
   "metadata": {},
   "outputs": [],
   "source": []
  }
 ],
 "metadata": {
  "kernelspec": {
   "display_name": "Python 3 (ipykernel)",
   "language": "python",
   "name": "python3"
  },
  "language_info": {
   "codemirror_mode": {
    "name": "ipython",
    "version": 3
   },
   "file_extension": ".py",
   "mimetype": "text/x-python",
   "name": "python",
   "nbconvert_exporter": "python",
   "pygments_lexer": "ipython3",
   "version": "3.9.7"
  }
 },
 "nbformat": 4,
 "nbformat_minor": 5
}
