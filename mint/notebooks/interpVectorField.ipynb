{
 "cells": [
  {
   "cell_type": "code",
   "execution_count": 1,
   "id": "00ab5939",
   "metadata": {},
   "outputs": [],
   "source": [
    "import mint"
   ]
  },
  {
   "cell_type": "code",
   "execution_count": null,
   "id": "77ecc08d",
   "metadata": {},
   "outputs": [],
   "source": [
    "src_grid = mint.Grid()\n",
    "src_grid.loadFrom2DUgrid('../../data/lfric_diag_wind.nc')"
   ]
  }
 ],
 "metadata": {
  "kernelspec": {
   "display_name": "Python 3 (ipykernel)",
   "language": "python",
   "name": "python3"
  },
  "language_info": {
   "codemirror_mode": {
    "name": "ipython",
    "version": 3
   },
   "file_extension": ".py",
   "mimetype": "text/x-python",
   "name": "python",
   "nbconvert_exporter": "python",
   "pygments_lexer": "ipython3",
   "version": "3.9.7"
  }
 },
 "nbformat": 4,
 "nbformat_minor": 5
}
