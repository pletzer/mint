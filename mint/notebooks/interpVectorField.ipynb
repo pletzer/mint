{
 "cells": [
  {
   "cell_type": "code",
   "execution_count": 1,
   "id": "dcdd6c58",
   "metadata": {},
   "outputs": [],
   "source": [
    "import mint\n",
    "import numpy\n",
    "import netCDF4"
   ]
  },
  {
   "cell_type": "code",
   "execution_count": 5,
   "id": "b44750d6",
   "metadata": {},
   "outputs": [
    {
     "name": "stdout",
     "output_type": "stream",
     "text": [
      "num bad cells = 2\n"
     ]
    }
   ],
   "source": [
    "src_grid = mint.Grid()\n",
    "# required for the cube-sphere grid\n",
    "src_grid.setFlags(fixLonAcrossDateline=1, averageLonAtPole=1)\n",
    "src_grid.loadFrom2DUgrid('../../data/lfric_diag_wind.nc$Mesh2d')\n",
    "src_grid.dump('src_grid.vtk')\n",
    "num_bad_cells = src_grid.check()\n",
    "print(f'num bad cells = {num_bad_cells}')\n",
    "mint.writeLogMessages('log.txt')"
   ]
  },
  {
   "cell_type": "code",
   "execution_count": null,
   "id": "6e069a7e",
   "metadata": {},
   "outputs": [],
   "source": [
    "# get the velocities\n",
    "nc = netCDF4.Dataset('../../data/lfric_diag_wind.nc')\n",
    "u1 = nc.variables['u1'][:]\n",
    "u2 = nc.variables['u2'][:]"
   ]
  },
  {
   "cell_type": "code",
   "execution_count": null,
   "id": "048c125f",
   "metadata": {},
   "outputs": [],
   "source": [
    "# compute integrals of the velocity over the edges (flows)\n",
    "lon = nc.variables['Mesh2d_node_x']\n",
    "lat = nc.variables['Mesh2d_node_y']\n",
    "edge_node_connect = nc.variables['Mesh2d_edge_nodes']\n",
    "ibeg = edge_node_connect[:, 0]\n",
    "iend = edge_node_connect[:, 1]\n",
    "\n",
    "lonbeg = lon[ibeg]\n",
    "lonend = lon[iend]\n",
    "lonmid = (lonbeg + lonend)*0.5\n",
    "\n",
    "latbeg = lat[ibeg]\n",
    "latend = lat[iend]\n",
    "latmid = (latbeg + latend)*0.5\n",
    "\n",
    "nedge = lonbeg.shape[0]\n",
    "deg2rad = numpy.pi/180.\n",
    "\n",
    "rhobeg = numpy.cos(latbeg*deg2rad)\n",
    "xyzbeg = numpy.zeros((nedge, 3), numpy.float64)\n",
    "xyzbeg[:, 0] = rhobeg * numpy.cos(lonbeg*deg2rad)\n",
    "xyzbeg[:, 1] = rhobeg * numpy.sin(lonbeg*deg2rad)\n",
    "xyzbeg[:, 2] = numpy.sin(latbeg*deg2rad)\n",
    "\n",
    "rhoend = numpy.cos(latend*deg2rad)\n",
    "xyzend = numpy.zeros((nedge, 3), numpy.float64)\n",
    "xyzend[:, 0] = rhobeg * numpy.cos(lonend*deg2rad)\n",
    "xyzend[:, 1] = rhobeg * numpy.sin(lonend*deg2rad)\n",
    "xyzend[:, 2] = numpy.sin(latend*deg2rad)\n",
    "\n",
    "lambda_hat = numpy.zeros((nedge, 3), numpy.float64)\n",
    "lambda_hat[:, 0] = - numpy.sin(lonmid*deg2rad)\n",
    "lambda_hat[:, 1] = numpy.cos(lonmid*deg2rad)\n",
    "\n",
    "theta_hat = numpy.zeros((nedge, 3), numpy.float64)\n",
    "theta_hat[:, 0] = - numpy.sin(latmid*deg2rad) * numpy.cos(lonmid*deg2rad)\n",
    "theta_hat[:, 1] = - numpy.sin(latmid*deg2rad) * numpy.sin(lonmid*deg2rad)\n",
    "theta_hat[:, 2] = numpy.cos(latmid*deg2rad)\n",
    "\n",
    "xyzdiff = xyzend - xyzbeg"
   ]
  },
  {
   "cell_type": "code",
   "execution_count": null,
   "id": "7ab10558",
   "metadata": {},
   "outputs": [],
   "source": [
    "print(f'min/max of lons: {min(lon)}/{max(lon)}')"
   ]
  },
  {
   "cell_type": "code",
   "execution_count": null,
   "id": "ec95f265",
   "metadata": {},
   "outputs": [],
   "source": [
    "print(xyzdiff.shape)"
   ]
  },
  {
   "cell_type": "code",
   "execution_count": null,
   "id": "c9bc08bd",
   "metadata": {},
   "outputs": [],
   "source": [
    "ue_integrated = numpy.zeros(u1.shape, numpy.float64)\n",
    "uvec = numpy.zeros((nedge, 3), numpy.float64)\n",
    "for i0 in range(u1.shape[0]):\n",
    "    for i1 in range(u1.shape[1]):\n",
    "        for k in range(3):\n",
    "            #uvec[:, k] = u1[i0, i1, :] * lambda_hat[:, k] + u2[i0, i1, :] * theta_hat[:, k]\n",
    "            # check\n",
    "            uvec[:, k] = theta_hat[:, k]\n",
    "        ue_integrated[i0, i1, :] = numpy.sum(uvec*xyzdiff, axis=1)"
   ]
  },
  {
   "cell_type": "code",
   "execution_count": null,
   "id": "e6672700",
   "metadata": {},
   "outputs": [],
   "source": [
    "# create target grid\n",
    "llon, llat = numpy.meshgrid(numpy.linspace(0., 20., 4), numpy.linspace(-10., 30., 5))\n",
    "ntarget = llon.shape[0] * llon.shape[1]\n",
    "target_points = numpy.zeros((ntarget, 3), numpy.float64)\n",
    "target_points[:, 0] = llon.flat\n",
    "target_points[:, 1] = llat.flat"
   ]
  },
  {
   "cell_type": "code",
   "execution_count": null,
   "id": "89fe5799",
   "metadata": {},
   "outputs": [],
   "source": [
    "# create a vector interpolator\n",
    "vi = mint.VectorInterp()\n",
    "vi.setGrid(src_grid)\n",
    "vi.buildLocator()\n",
    "vi.findPoints(target_points, tol2=1.e-10)\n",
    "edgeVectors = vi.getEdgeVectors(ue_integrated)"
   ]
  },
  {
   "cell_type": "code",
   "execution_count": null,
   "id": "a54675b9",
   "metadata": {},
   "outputs": [],
   "source": [
    "from matplotlib import pylab\n",
    "pylab.quiver(target_points[:, 0], target_points[:, 1], edgeVectors[:, 0], edgeVectors[:, 1])\n",
    "pylab.show()"
   ]
  },
  {
   "cell_type": "code",
   "execution_count": null,
   "id": "18bdf1e4",
   "metadata": {},
   "outputs": [],
   "source": [
    "min(latmid), max(latmid)"
   ]
  },
  {
   "cell_type": "code",
   "execution_count": null,
   "id": "d5100c88",
   "metadata": {},
   "outputs": [],
   "source": []
  }
 ],
 "metadata": {
  "kernelspec": {
   "display_name": "Python 3 (ipykernel)",
   "language": "python",
   "name": "python3"
  },
  "language_info": {
   "codemirror_mode": {
    "name": "ipython",
    "version": 3
   },
   "file_extension": ".py",
   "mimetype": "text/x-python",
   "name": "python",
   "nbconvert_exporter": "python",
   "pygments_lexer": "ipython3",
   "version": "3.9.7"
  }
 },
 "nbformat": 4,
 "nbformat_minor": 5
}
