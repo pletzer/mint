{
 "cells": [
  {
   "cell_type": "code",
   "execution_count": 9,
   "id": "dcdd6c58",
   "metadata": {},
   "outputs": [],
   "source": [
    "import mint\n",
    "import numpy\n",
    "import netCDF4"
   ]
  },
  {
   "cell_type": "code",
   "execution_count": 10,
   "id": "b44750d6",
   "metadata": {},
   "outputs": [],
   "source": [
    "src_grid = mint.Grid()\n",
    "src_grid.loadFrom2DUgrid('../../data/lfric_diag_wind.nc$Mesh2d')\n",
    "# required for the cubc-sphere grid\n",
    "src_grid.setFlags(fixLonAcrossDateline=1, averageLonAtPole=1)"
   ]
  },
  {
   "cell_type": "code",
   "execution_count": 11,
   "id": "6e069a7e",
   "metadata": {},
   "outputs": [],
   "source": [
    "# get the velocities\n",
    "nc = netCDF4.Dataset('../../data/lfric_diag_wind.nc')\n",
    "u1 = nc.variables['u1'][:]\n",
    "u2 = nc.variables['u2'][:]"
   ]
  },
  {
   "cell_type": "code",
   "execution_count": 36,
   "id": "048c125f",
   "metadata": {},
   "outputs": [],
   "source": [
    "# compute integrals of the velocity over the edges (flows)\n",
    "lon = nc.variables['Mesh2d_node_x']\n",
    "lat = nc.variables['Mesh2d_node_y']\n",
    "edge_node_connect = nc.variables['Mesh2d_edge_nodes']\n",
    "ibeg = edge_node_connect[:, 0]\n",
    "iend = edge_node_connect[:, 1]\n",
    "\n",
    "lonbeg = lon[ibeg]\n",
    "lonend = lon[iend]\n",
    "lonmid = (lonbeg + lonend)*0.5\n",
    "\n",
    "latbeg = lat[ibeg]\n",
    "latend = lat[iend]\n",
    "latmid = (latbeg + latend)*0.5\n",
    "\n",
    "nedge = lonbeg.shape[0]\n",
    "\n",
    "rhobeg = numpy.cos(latbeg*numpy.pi/180.)\n",
    "xyzbeg = numpy.zeros((nedge, 3), numpy.float64)\n",
    "xyzbeg[:, 0] = rhobeg * numpy.cos(lonbeg*numpy.pi/180.)\n",
    "xyzbeg[:, 1] = rhobeg * numpy.sin(lonbeg*numpy.pi/180.)\n",
    "xyzbeg[:, 2] = numpy.sin(latbeg*numpy.pi/180.)\n",
    "\n",
    "rhoend = numpy.cos(latend*numpy.pi/180.)\n",
    "xyzend = numpy.zeros((nedge, 3), numpy.float64)\n",
    "xyzend[:, 0] = rhobeg * numpy.cos(lonend*numpy.pi/180.)\n",
    "xyzend[:, 1] = rhobeg * numpy.sin(lonend*numpy.pi/180.)\n",
    "xyzend[:, 2] = numpy.sin(latend*numpy.pi/180.)\n",
    "\n",
    "\n",
    "lambda_hat = numpy.zeros((nedge, 3), numpy.float64)\n",
    "lambda_hat[:, 0] = - numpy.sin(lonmid*numpy.pi/180.)\n",
    "lambda_hat[:, 1] = numpy.cos(lonmid*numpy.pi/180.)\n",
    "\n",
    "theta_hat = numpy.zeros((nedge, 3), numpy.float64)\n",
    "theta_hat[:, 0] = - numpy.sin(latmid*numpy.pi/180.) * numpy.cos(lonmid*numpy.pi/180.)\n",
    "theta_hat[:, 1] = - numpy.sin(latmid*numpy.pi/180.) * numpy.sin(lonmid*numpy.pi/180.)\n",
    "theta_hat[:, 2] = numpy.cos(latmid*numpy.pi/180.)\n",
    "\n",
    "xyzdiff = xyzend - xyzbeg"
   ]
  },
  {
   "cell_type": "code",
   "execution_count": 39,
   "id": "ec95f265",
   "metadata": {},
   "outputs": [
    {
     "name": "stdout",
     "output_type": "stream",
     "text": [
      "(3072, 3)\n"
     ]
    }
   ],
   "source": [
    "print(xyzdiff.shape)"
   ]
  },
  {
   "cell_type": "code",
   "execution_count": 44,
   "id": "c9bc08bd",
   "metadata": {},
   "outputs": [],
   "source": [
    "ue_integrated = numpy.zeros(u1.shape, numpy.float64)\n",
    "uvec = numpy.zeros((nedge, 3), numpy.float64)\n",
    "for i0 in range(u1.shape[0]):\n",
    "    for i1 in range(u1.shape[1]):\n",
    "        for k in range(3):\n",
    "            uvec[:, k] = u1[i0, i1, :] * lambda_hat[:, k] + u2[i0, i1, :] * theta_hat[:, k]\n",
    "        ue_integrated[i0, i1, :] = numpy.sum(uvec*xyzdiff, axis=1)"
   ]
  },
  {
   "cell_type": "code",
   "execution_count": 23,
   "id": "e6672700",
   "metadata": {},
   "outputs": [],
   "source": [
    "# create target grid\n",
    "llon, llat = numpy.meshgrid(numpy.linspace(-180, 180, 10), numpy.linspace(-90, 90, 5))\n",
    "ntarget = llon.shape[0] * llon.shape[1]\n",
    "target_points = numpy.zeros((ntarget, 3), numpy.float64)\n",
    "target_points[:, 0] = llon.flat\n",
    "target_points[:, 1] = llat.flat"
   ]
  },
  {
   "cell_type": "code",
   "execution_count": 45,
   "id": "89fe5799",
   "metadata": {},
   "outputs": [
    {
     "ename": "TypeError",
     "evalue": "warning_handler() got an unexpected keyword argument 'detailedMsg'",
     "output_type": "error",
     "traceback": [
      "\u001b[0;31m---------------------------------------------------------------------------\u001b[0m",
      "\u001b[0;31mTypeError\u001b[0m                                 Traceback (most recent call last)",
      "\u001b[0;32m<ipython-input-45-4123bda67a88>\u001b[0m in \u001b[0;36m<module>\u001b[0;34m\u001b[0m\n\u001b[1;32m      4\u001b[0m \u001b[0mvi\u001b[0m\u001b[0;34m.\u001b[0m\u001b[0mbuildLocator\u001b[0m\u001b[0;34m(\u001b[0m\u001b[0mnumCellsPerBucket\u001b[0m\u001b[0;34m=\u001b[0m\u001b[0;36m1\u001b[0m\u001b[0;34m,\u001b[0m \u001b[0mperiodX\u001b[0m\u001b[0;34m=\u001b[0m\u001b[0;36m360.\u001b[0m\u001b[0;34m)\u001b[0m\u001b[0;34m\u001b[0m\u001b[0;34m\u001b[0m\u001b[0m\n\u001b[1;32m      5\u001b[0m \u001b[0mvi\u001b[0m\u001b[0;34m.\u001b[0m\u001b[0mfindPoints\u001b[0m\u001b[0;34m(\u001b[0m\u001b[0mtarget_points\u001b[0m\u001b[0;34m)\u001b[0m\u001b[0;34m\u001b[0m\u001b[0;34m\u001b[0m\u001b[0m\n\u001b[0;32m----> 6\u001b[0;31m \u001b[0medgeVectors\u001b[0m \u001b[0;34m=\u001b[0m \u001b[0mvi\u001b[0m\u001b[0;34m.\u001b[0m\u001b[0mgetEdgeVectors\u001b[0m\u001b[0;34m(\u001b[0m\u001b[0mue_integrated\u001b[0m\u001b[0;34m)\u001b[0m\u001b[0;34m\u001b[0m\u001b[0;34m\u001b[0m\u001b[0m\n\u001b[0m",
      "\u001b[0;32m~/mint-dev/mint/vector_interp.py\u001b[0m in \u001b[0;36mgetEdgeVectors\u001b[0;34m(self, data)\u001b[0m\n\u001b[1;32m    105\u001b[0m         \u001b[0;32mif\u001b[0m \u001b[0mier\u001b[0m\u001b[0;34m:\u001b[0m\u001b[0;34m\u001b[0m\u001b[0;34m\u001b[0m\u001b[0m\n\u001b[1;32m    106\u001b[0m             \u001b[0mmsg\u001b[0m \u001b[0;34m=\u001b[0m \u001b[0;34m\"Some target lines fall outside the grid.\"\u001b[0m\u001b[0;34m\u001b[0m\u001b[0;34m\u001b[0m\u001b[0m\n\u001b[0;32m--> 107\u001b[0;31m             \u001b[0mwarning_handler\u001b[0m\u001b[0;34m(\u001b[0m\u001b[0mFILE\u001b[0m\u001b[0;34m,\u001b[0m \u001b[0;34m'getEdgeVectors'\u001b[0m\u001b[0;34m,\u001b[0m \u001b[0mier\u001b[0m\u001b[0;34m,\u001b[0m \u001b[0mdetailedMsg\u001b[0m\u001b[0;34m=\u001b[0m\u001b[0mmsg\u001b[0m\u001b[0;34m)\u001b[0m\u001b[0;34m\u001b[0m\u001b[0;34m\u001b[0m\u001b[0m\n\u001b[0m\u001b[1;32m    108\u001b[0m         \u001b[0;32mreturn\u001b[0m \u001b[0mres\u001b[0m\u001b[0;34m\u001b[0m\u001b[0;34m\u001b[0m\u001b[0m\n\u001b[1;32m    109\u001b[0m \u001b[0;34m\u001b[0m\u001b[0m\n",
      "\u001b[0;31mTypeError\u001b[0m: warning_handler() got an unexpected keyword argument 'detailedMsg'"
     ]
    }
   ],
   "source": [
    "# create a vector interpolator\n",
    "vi = mint.VectorInterp()\n",
    "vi.setGrid(src_grid)\n",
    "vi.buildLocator(numCellsPerBucket=1, periodX=360.)\n",
    "vi.findPoints(target_points)\n",
    "edgeVectors = vi.getEdgeVectors(ue_integrated)"
   ]
  },
  {
   "cell_type": "code",
   "execution_count": null,
   "id": "a54675b9",
   "metadata": {},
   "outputs": [],
   "source": [
    "from matplotlib import pylab\n",
    "pylab.quiver(target_points[:, 0], target_points[:, 1], edgeVectors[:, 0], edgeVectors[:, 1])\n",
    "pylab.show()"
   ]
  },
  {
   "cell_type": "code",
   "execution_count": null,
   "id": "18bdf1e4",
   "metadata": {},
   "outputs": [],
   "source": []
  }
 ],
 "metadata": {
  "kernelspec": {
   "display_name": "Python 3 (ipykernel)",
   "language": "python",
   "name": "python3"
  },
  "language_info": {
   "codemirror_mode": {
    "name": "ipython",
    "version": 3
   },
   "file_extension": ".py",
   "mimetype": "text/x-python",
   "name": "python",
   "nbconvert_exporter": "python",
   "pygments_lexer": "ipython3",
   "version": "3.9.7"
  }
 },
 "nbformat": 4,
 "nbformat_minor": 5
}
