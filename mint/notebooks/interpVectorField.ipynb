{
 "cells": [
  {
   "cell_type": "code",
   "execution_count": 1,
   "id": "dcdd6c58",
   "metadata": {},
   "outputs": [],
   "source": [
    "import mint"
   ]
  },
  {
   "cell_type": "code",
   "execution_count": 2,
   "id": "b44750d6",
   "metadata": {},
   "outputs": [],
   "source": [
    "src_grid = mint.Grid()\n",
    "src_grid.loadFrom2DUgrid('../../data/lfric_diag_wind.nc$Mesh2d')\n",
    "# required for the cubc-sphere grid\n",
    "src_grid.setFlags(fixLonAcrossDateline=1, averageLonAtPole=1)"
   ]
  },
  {
   "cell_type": "code",
   "execution_count": null,
   "id": "6e069a7e",
   "metadata": {},
   "outputs": [],
   "source": []
  }
 ],
 "metadata": {
  "kernelspec": {
   "display_name": "Python 3 (ipykernel)",
   "language": "python",
   "name": "python3"
  },
  "language_info": {
   "codemirror_mode": {
    "name": "ipython",
    "version": 3
   },
   "file_extension": ".py",
   "mimetype": "text/x-python",
   "name": "python",
   "nbconvert_exporter": "python",
   "pygments_lexer": "ipython3",
   "version": "3.9.7"
  }
 },
 "nbformat": 4,
 "nbformat_minor": 5
}
